{
  "nbformat": 4,
  "nbformat_minor": 0,
  "metadata": {
    "colab": {
      "provenance": []
    },
    "kernelspec": {
      "name": "python3",
      "display_name": "Python 3"
    },
    "language_info": {
      "name": "python"
    }
  },
  "cells": [
    {
      "cell_type": "markdown",
      "source": [
        "# CS6405 - Data Mining - First Assignment\n",
        "\n",
        "Lecturer: Dr Andrea Visentin\n",
        "\n",
        "TA: Andrea Balogh\n",
        "\n",
        "## Submission\n",
        "\n",
        "This assignment is **due on 28/02/23 at 23:59**. You should submit a single .ipnyb file with your python code and analysis electronically via Canvas.\n",
        "Please note that this assignment will account for **25 Marks** of your module grade.\n",
        "\n",
        "## Declaration\n",
        "\n",
        "By submitting this assignment. I agree to the following:\n",
        "\n",
        "<font color=\"red\">“I have read and understand the UCC academic policy on plagiarism and I agree to the\n",
        "requirements set out thereby in relation to plagiarism and referencing. I confirm that I\n",
        "have referenced and acknowledged properly all sources used in preparation of this\n",
        "assignment.\n",
        "I declare that this assignment is entirely my own work based on my personal study. I\n",
        "further declare that I have not engaged the services of another to either assist me in, or\n",
        "complete this assignment”</font>\n",
        "\n",
        "## Specification \n",
        "\n",
        "The objective of this project is to build a k-Nearest Neighbour algorithm that takes as input training and test dataset and will predict the target variable with a reasonable degree of accuracy.\n",
        "\n",
        "\n",
        "You will find a template for your python code in Canvas along with the dataset. In this project, you must implement your own machine learning library, and therefore **you are only allowed to use the following python packages and libraries: NumPy and pandas.**\n",
        "\n",
        "This project focuses on a modified version of the Real estate valuation data set (https://archive.ics.uci.edu/ml/datasets/Real+estate+valuation+data+set). \n",
        "\n",
        "You can find the correct csv that you should use for the assignment here:\n",
        "https://github.com/andvise/DataAnalyticsDatasets/blob/main/real_estate.csv\n",
        "\n",
        "# Tasks:\n",
        "\n"
      ],
      "metadata": {
        "id": "aj6mOEoTsCJX"
      }
    },
    {
      "cell_type": "markdown",
      "source": [
        "# Data Preparation (5 marks)\n",
        "\n",
        "\n",
        "\n",
        "1.  Load the dataset on Colab \n"
      ],
      "metadata": {
        "id": "3jkbPvQyvLHl"
      }
    },
    {
      "cell_type": "code",
      "source": [
        "# Import of neccesary libraries\n",
        "import pandas as pd\n",
        "import numpy as np\n",
        "\n",
        "estate_df = pd.read_csv('https://github.com/andvise/DataAnalyticsDatasets/blob/16a2159cf151c19f7a3878cea06ed27b5cb4fd9d/real_estate.csv?raw=true')\n"
      ],
      "metadata": {
        "id": "_0CEdmKwuYdw"
      },
      "execution_count": 1,
      "outputs": []
    },
    {
      "cell_type": "markdown",
      "source": [
        "\n",
        "\n",
        "---\n",
        "\n"
      ],
      "metadata": {
        "id": "b2KVPKVKw0r0"
      }
    },
    {
      "cell_type": "markdown",
      "source": [
        "\n",
        "\n",
        "2. Display the attributes' name and their data type\n",
        "\n",
        "\n"
      ],
      "metadata": {
        "id": "v4AfYHzAudy2"
      }
    },
    {
      "cell_type": "code",
      "source": [
        "print(estate_df.dtypes)"
      ],
      "metadata": {
        "id": "hfi7ERXDu6h2",
        "colab": {
          "base_uri": "https://localhost:8080/"
        },
        "outputId": "80b352e5-b0c6-44a9-8c87-84d4ffb46c51"
      },
      "execution_count": 2,
      "outputs": [
        {
          "output_type": "stream",
          "name": "stdout",
          "text": [
            "num                            int64\n",
            "transaction_date             float64\n",
            "house_age                    float64\n",
            "distance_MRT_station         float64\n",
            "number_convenience_stores      int64\n",
            "latitude                     float64\n",
            "longitude                    float64\n",
            "house_price_per_unit         float64\n",
            "dtype: object\n"
          ]
        }
      ]
    },
    {
      "cell_type": "markdown",
      "source": [
        "On the left side are listed the names of the attributes VS on the right are their respective data types."
      ],
      "metadata": {
        "id": "2kGL_3nNXfZW"
      }
    },
    {
      "cell_type": "markdown",
      "source": [
        "\n",
        "\n",
        "---\n",
        "\n"
      ],
      "metadata": {
        "id": "w8_2JYATwzul"
      }
    },
    {
      "cell_type": "markdown",
      "source": [
        "3. Delete the columns **num** and **transaction_date**\n",
        "\n"
      ],
      "metadata": {
        "id": "SAX0YZxyutsm"
      }
    },
    {
      "cell_type": "code",
      "source": [
        "estate_df = estate_df[['house_age', 'distance_MRT_station',\n",
        "       'number_convenience_stores', 'latitude', 'longitude',\n",
        "       'house_price_per_unit']]\n",
        "\n",
        "# need double square brackets to specify multiple column names within a list"
      ],
      "metadata": {
        "id": "_no2t3bEu7MY"
      },
      "execution_count": 3,
      "outputs": []
    },
    {
      "cell_type": "markdown",
      "source": [
        "'Removing' columns by modifying the estate_df to contain all the columns except 'num' and 'transaction_date'.\n"
      ],
      "metadata": {
        "id": "zlrovxVkXuzw"
      }
    },
    {
      "cell_type": "markdown",
      "source": [
        "\n",
        "\n",
        "---\n",
        "\n"
      ],
      "metadata": {
        "id": "dkgZtQpuwyag"
      }
    },
    {
      "cell_type": "markdown",
      "source": [
        "4. Use **house_price_per_unit** as the target value and the rest of the data frame as\n",
        "features\n"
      ],
      "metadata": {
        "id": "BAHTyJF8uys4"
      }
    },
    {
      "cell_type": "markdown",
      "source": [
        "Target value means label.\n",
        "Rest of df means remaining attributes i.e. columns."
      ],
      "metadata": {
        "id": "OkEbZvs7Xzyh"
      }
    },
    {
      "cell_type": "code",
      "source": [
        "labels = estate_df['house_price_per_unit']\n",
        "\n",
        "data = estate_df[['house_age', 'distance_MRT_station', 'number_convenience_stores',\n",
        "       'latitude', 'longitude']]"
      ],
      "metadata": {
        "id": "FVo2V5jpu8td"
      },
      "execution_count": 4,
      "outputs": []
    },
    {
      "cell_type": "markdown",
      "source": [
        "\n",
        "\n",
        "---\n",
        "\n"
      ],
      "metadata": {
        "id": "y1XXNjz4wxIt"
      }
    },
    {
      "cell_type": "markdown",
      "source": [
        "5. Divide your dataset into 80% for training and 20% for test\n",
        " "
      ],
      "metadata": {
        "id": "shSjCurZu0V6"
      }
    },
    {
      "cell_type": "code",
      "source": [
        "# check shape of dataset\n",
        "estate_df.info()"
      ],
      "metadata": {
        "id": "lGRWLJkKu9fo",
        "colab": {
          "base_uri": "https://localhost:8080/"
        },
        "outputId": "3eadb1f5-fbe9-456d-8aa7-ab2362cd2c21"
      },
      "execution_count": 5,
      "outputs": [
        {
          "output_type": "stream",
          "name": "stdout",
          "text": [
            "<class 'pandas.core.frame.DataFrame'>\n",
            "RangeIndex: 414 entries, 0 to 413\n",
            "Data columns (total 6 columns):\n",
            " #   Column                     Non-Null Count  Dtype  \n",
            "---  ------                     --------------  -----  \n",
            " 0   house_age                  414 non-null    float64\n",
            " 1   distance_MRT_station       414 non-null    float64\n",
            " 2   number_convenience_stores  414 non-null    int64  \n",
            " 3   latitude                   414 non-null    float64\n",
            " 4   longitude                  414 non-null    float64\n",
            " 5   house_price_per_unit       414 non-null    float64\n",
            "dtypes: float64(5), int64(1)\n",
            "memory usage: 19.5 KB\n"
          ]
        }
      ]
    },
    {
      "cell_type": "markdown",
      "source": [
        "Noticed 414 entries and 6 columns (5 attributes and 1 label)."
      ],
      "metadata": {
        "id": "KNAKihKBYJV9"
      }
    },
    {
      "cell_type": "code",
      "source": [
        "# 414 entires; divide into 80% training set VS. 20% test set.\n",
        "\n",
        "train_data = estate_df[['house_age', 'distance_MRT_station', 'number_convenience_stores',\n",
        "       'latitude', 'longitude']][:331] #take rows 0:331, as ~80% of 414 is 331.2\n",
        "\n",
        "train_labels = estate_df['house_price_per_unit'][:331] \n",
        "\n",
        "test_data = estate_df[['house_age', 'distance_MRT_station', 'number_convenience_stores',\n",
        "       'latitude', 'longitude']][331:] # take rows 331: till the end (414th row) as this is remaining ~20% of data for the attributes\n",
        "\n",
        "test_labels = estate_df['house_price_per_unit'][331:] "
      ],
      "metadata": {
        "id": "dukWj5HVYHeK"
      },
      "execution_count": 6,
      "outputs": []
    },
    {
      "cell_type": "code",
      "source": [
        "#to check if division of data into 80-20 worked:\n",
        "print(train_data.shape)\n",
        "print(train_labels.shape)\n",
        "print('--------------------------------')\n",
        "print(test_data.shape)\n",
        "print(test_labels.shape)"
      ],
      "metadata": {
        "colab": {
          "base_uri": "https://localhost:8080/"
        },
        "id": "JMqecZk_ddsJ",
        "outputId": "5924a1c2-49f3-4018-c4e2-233a00cd822d"
      },
      "execution_count": 7,
      "outputs": [
        {
          "output_type": "stream",
          "name": "stdout",
          "text": [
            "(331, 5)\n",
            "(331,)\n",
            "--------------------------------\n",
            "(83, 5)\n",
            "(83,)\n"
          ]
        }
      ]
    },
    {
      "cell_type": "markdown",
      "source": [
        "331+83 = 414 entries (rows)\n",
        "Test and train data have 5 attributes (columns) each, whereas their labels have one i.e. 'house_price_per_unit'"
      ],
      "metadata": {
        "id": "aPmE2IWGYo9J"
      }
    },
    {
      "cell_type": "markdown",
      "source": [
        "\n",
        "\n",
        "---\n",
        "\n"
      ],
      "metadata": {
        "id": "78zqoQYWwvt0"
      }
    },
    {
      "cell_type": "markdown",
      "source": [
        "6. Scale the columns using min-max scalers\n"
      ],
      "metadata": {
        "id": "jMkhqPtzu1n3"
      }
    },
    {
      "cell_type": "code",
      "source": [
        "# Display the first 5 entries of training data and their labels to observe the range of their values for each attribute\n",
        "\n",
        "print(train_data.head())  \n",
        "print('---------------------------------------------------------------------------------')\n",
        "print(train_labels.head()) "
      ],
      "metadata": {
        "colab": {
          "base_uri": "https://localhost:8080/"
        },
        "id": "86GN7G1XjE9s",
        "outputId": "aec879a3-a5ac-4d20-a173-4894f6b37187"
      },
      "execution_count": 8,
      "outputs": [
        {
          "output_type": "stream",
          "name": "stdout",
          "text": [
            "   house_age  distance_MRT_station  number_convenience_stores  latitude  \\\n",
            "0       32.0              84.87882                         10  24.98298   \n",
            "1       19.5             306.59470                          9  24.98034   \n",
            "2       13.3             561.98450                          5  24.98746   \n",
            "3       13.3             561.98450                          5  24.98746   \n",
            "4        5.0             390.56840                          5  24.97937   \n",
            "\n",
            "   longitude  \n",
            "0  121.54024  \n",
            "1  121.53951  \n",
            "2  121.54391  \n",
            "3  121.54391  \n",
            "4  121.54245  \n",
            "---------------------------------------------------------------------------------\n",
            "0    37.9\n",
            "1    42.2\n",
            "2    47.3\n",
            "3    54.8\n",
            "4    43.1\n",
            "Name: house_price_per_unit, dtype: float64\n"
          ]
        }
      ]
    },
    {
      "cell_type": "markdown",
      "source": [
        "Each attribute has a range of values [min, max]. \n",
        "\n",
        "Different attributes having different ranges implies that the distance between neighbours could be dominated by an attribute with relatively large values. \n",
        "\n",
        "Therefore creating a function to scale them within a [0,1] range will be useful as to count the attributes equally.  "
      ],
      "metadata": {
        "id": "u7FXLbKJ9Man"
      }
    },
    {
      "cell_type": "code",
      "source": [
        "# Function to perform normalization of values in a df:\n",
        "\n",
        "def scaling_df(df_subset):\n",
        "  min_max_scaler = (df_subset - df_subset.min()) / (df_subset.max() - df_subset.min())\n",
        "  return min_max_scaler\n",
        "\n",
        "# Pandas automatically applies colomn-wise function in the code above."
      ],
      "metadata": {
        "id": "jpq2_4VdFvsI"
      },
      "execution_count": 9,
      "outputs": []
    },
    {
      "cell_type": "markdown",
      "source": [
        "The potential issues that arise from processing data this way is that all attributes will have the exact same range. \n",
        "\n",
        "This can be problematic because adjusting the data to fit within the same range coudl lead to a loss of information which could in itself have a  meaningful interpretation. \n",
        "\n",
        "Also, considering how this is min-max scaling, if there are outliers in the data they can have a disproportionate effect on the scaling."
      ],
      "metadata": {
        "id": "Ka9mAirO_fpo"
      }
    },
    {
      "cell_type": "code",
      "source": [
        "train_data = scaling_df(train_data)"
      ],
      "metadata": {
        "id": "4_xCjmMRGCaC"
      },
      "execution_count": 10,
      "outputs": []
    },
    {
      "cell_type": "code",
      "source": [
        "#to verify whether scaling worked\n",
        "\n",
        "print(train_data.head)"
      ],
      "metadata": {
        "colab": {
          "base_uri": "https://localhost:8080/"
        },
        "id": "bt5KpmaRZiJG",
        "outputId": "5ad6f19b-09a8-48af-e7a5-a57d8c52997b"
      },
      "execution_count": 11,
      "outputs": [
        {
          "output_type": "stream",
          "name": "stdout",
          "text": [
            "<bound method NDFrame.head of      house_age  distance_MRT_station  number_convenience_stores  latitude  \\\n",
            "0     0.730594              0.009650                        1.0  0.612907   \n",
            "1     0.445205              0.044440                        0.9  0.580578   \n",
            "2     0.303653              0.084514                        0.5  0.667769   \n",
            "3     0.303653              0.084514                        0.5  0.667769   \n",
            "4     0.114155              0.057617                        0.5  0.568699   \n",
            "..         ...                   ...                        ...       ...   \n",
            "326   0.093607              0.005193                        0.7  0.300147   \n",
            "327   0.079909              0.115168                        0.3  0.519838   \n",
            "328   0.363014              0.231344                        0.3  0.454323   \n",
            "329   0.310502              0.654956                        0.0  0.072496   \n",
            "330   0.730594              0.177846                        0.0  0.201078   \n",
            "\n",
            "     longitude  \n",
            "0     0.714301  \n",
            "1     0.706289  \n",
            "2     0.754582  \n",
            "3     0.754582  \n",
            "4     0.738558  \n",
            "..         ...  \n",
            "326   0.679947  \n",
            "327   0.818242  \n",
            "328   0.458786  \n",
            "329   0.314675  \n",
            "330   0.606959  \n",
            "\n",
            "[331 rows x 5 columns]>\n"
          ]
        }
      ]
    },
    {
      "cell_type": "code",
      "source": [
        "train_labels = scaling_df(train_labels)"
      ],
      "metadata": {
        "id": "f5ir_R-UGco7"
      },
      "execution_count": 12,
      "outputs": []
    },
    {
      "cell_type": "code",
      "source": [
        "test_data = scaling_df(test_data)"
      ],
      "metadata": {
        "id": "Qb1t6oEBOfV0"
      },
      "execution_count": 13,
      "outputs": []
    },
    {
      "cell_type": "code",
      "source": [
        "test_labels = scaling_df(test_labels)"
      ],
      "metadata": {
        "id": "dHiNheYTOo8K"
      },
      "execution_count": 14,
      "outputs": []
    },
    {
      "cell_type": "markdown",
      "source": [
        "\n",
        "\n",
        "---\n",
        "\n"
      ],
      "metadata": {
        "id": "UbK3u3s_wsUo"
      }
    },
    {
      "cell_type": "markdown",
      "source": [
        "7. Print the shape of the train and test set  "
      ],
      "metadata": {
        "id": "x8Beg7r2u24u"
      }
    },
    {
      "cell_type": "code",
      "source": [
        "print(train_data.shape)\n",
        "print(train_labels.shape)\n",
        "print('-------------------')\n",
        "\n",
        "print(test_data.shape)\n",
        "print(test_labels.shape)"
      ],
      "metadata": {
        "id": "GRmj29wdu_NR",
        "colab": {
          "base_uri": "https://localhost:8080/"
        },
        "outputId": "bafc19e2-260b-48ea-b94e-945c331cade2"
      },
      "execution_count": 15,
      "outputs": [
        {
          "output_type": "stream",
          "name": "stdout",
          "text": [
            "(331, 5)\n",
            "(331,)\n",
            "-------------------\n",
            "(83, 5)\n",
            "(83,)\n"
          ]
        }
      ]
    },
    {
      "cell_type": "markdown",
      "source": [
        "Receive 331 entries for training set of the 5 attributes, as well as corresponding 331 entires for the training labels (i.e house_price_per_unit).\n",
        "\n",
        "On the other hand, receive 83 entries (20% of the original estate_df) for test set of the 5 attributes and 83 entries for the test labels."
      ],
      "metadata": {
        "id": "r0UwxUbGBQr9"
      }
    },
    {
      "cell_type": "markdown",
      "source": [
        "\n",
        "\n",
        "---\n",
        "\n"
      ],
      "metadata": {
        "id": "OZ63sESswq4b"
      }
    },
    {
      "cell_type": "markdown",
      "source": [
        "# NN implementation (10 Marks)\n",
        "\n",
        "1. Implement your NN method. To predict **each** point (query point) of the test set, you need to:\n",
        "\n",
        "\n",
        "> a. Find the training point with the smallest **Manhattan** distance  with the query point\n",
        "\n",
        "\n",
        "  \n",
        "> b. Use as a prediction the target value of the point with the smallest distance to the query point"
      ],
      "metadata": {
        "id": "b1f455v-vzXd"
      }
    },
    {
      "cell_type": "code",
      "source": [
        "def NN_implementation(train_data, train_labels, test_data): \n",
        "\n",
        "  min_manhattan_all = []\n",
        "  test_samples =[]\n",
        "  pred_label = []\n",
        "\n",
        "  for idx, i in test_data.iterrows(): # idx is the index of the current row, i signifies the contents of that row\n",
        "\n",
        "    man_dist_lst = [] # empty list stores computed manhattan distance of every training sample (all j's) for given i (test sample)\n",
        "\n",
        "    for jdx, j in train_data.iterrows():\n",
        "\n",
        "      man_dist = abs(j['house_age'] - i['house_age']) + abs(j['distance_MRT_station'] - i['distance_MRT_station']) + abs(j['number_convenience_stores'] - i['number_convenience_stores']) + abs(j['latitude'] - i['latitude']) + abs(j['longitude'] - i['longitude'])\n",
        "\n",
        "      man_dist_lst.append(man_dist) # append computed man_dist to man_dist_lst\n",
        "\n",
        "    min_manhattan_ith = min(man_dist_lst) # selects only smallest value of manhattan distance for given i\n",
        "\n",
        "    index_min_k = man_dist_lst.index(min_manhattan_ith) # finding the index of j which has the smallest manhattan distance \n",
        "\n",
        "    pred_label.append(train_labels[index_min_k]) # add predicted value of ith element i.e. label of the j with smallest manhattan distance to given i \n",
        "\n",
        "    min_manhattan_all.append(min_manhattan_ith) # store smallest manhattan distance of given i (test sample) to a j (training sample), but for all i's\n",
        "\n",
        "    test_samples.append(idx) # record test sample index value into a list test_samples in order to be able to input it as a column within the manhattan_df\n",
        "\n",
        "\n",
        "  # creating a data frame to store manhattan distance of test sample, and the training sample closest to it:\n",
        "  manhattan_df = pd.DataFrame( \n",
        "      {'Test_Sample': test_samples, # store as a list all the test sample indexes; this list will represent values for column 'Test Samples'\n",
        "      'Man_Distance': min_manhattan_all,\n",
        "      'Pred_Label(Price)' : pred_label \n",
        "      }) \n",
        "\n",
        "  print(manhattan_df)\n",
        "\n",
        "  return pred_label"
      ],
      "metadata": {
        "id": "sGpeFdCRbQLz"
      },
      "execution_count": 16,
      "outputs": []
    },
    {
      "cell_type": "markdown",
      "source": [
        "\n",
        "\n",
        "---\n",
        "\n"
      ],
      "metadata": {
        "id": "DwucdX0Lwmjp"
      }
    },
    {
      "cell_type": "markdown",
      "source": [
        "2. Compute the mean absolute error (MAE) and the mean squared error (MSE) between the test labels and the predicted\n",
        "values"
      ],
      "metadata": {
        "id": "rWGWMI10wXJ5"
      }
    },
    {
      "cell_type": "code",
      "source": [
        "# Storing pred_label (the returned value) in a new variable because it is a local variable within the NN_implementation function\n",
        "# It cannot be accessed directly from outside the function, so its type needs to be checked this way\n",
        "\n",
        "pred_label = NN_implementation(train_data, train_labels, test_data)\n",
        "\n",
        "print('--------------------------------------------------------------')\n",
        "\n",
        "print(type(pred_label))\n",
        "print(type(test_labels))"
      ],
      "metadata": {
        "colab": {
          "base_uri": "https://localhost:8080/"
        },
        "id": "PHNO5XK_Xlmo",
        "outputId": "43feebd3-e848-4864-d41b-72222aa4a7c3"
      },
      "execution_count": 17,
      "outputs": [
        {
          "output_type": "stream",
          "name": "stdout",
          "text": [
            "    Test_Sample  Man_Distance  Pred_Label(Price)\n",
            "0           331      0.092242           0.071884\n",
            "1           332      0.243704           0.390355\n",
            "2           333      0.090241           0.450409\n",
            "3           334      0.502746           0.241128\n",
            "4           335      0.093020           0.317561\n",
            "..          ...           ...                ...\n",
            "78          409      0.091749           0.112830\n",
            "79          410      0.203975           0.410373\n",
            "80          411      0.232674           0.432211\n",
            "81          412      0.097266           0.450409\n",
            "82          413      0.201959           0.467698\n",
            "\n",
            "[83 rows x 3 columns]\n",
            "--------------------------------------------------------------\n",
            "<class 'list'>\n",
            "<class 'pandas.core.series.Series'>\n"
          ]
        }
      ]
    },
    {
      "cell_type": "markdown",
      "source": [
        "Seeing that test_labels is a series, pred_label has been converted to series as well. \n"
      ],
      "metadata": {
        "id": "ea1eEJdyakmg"
      }
    },
    {
      "cell_type": "code",
      "source": [
        "pred_labels_ser = pd.Series(pred_label)\n",
        "\n",
        "print(type(pred_labels_ser))\n",
        "print('-------------------------------')\n",
        "print(pred_labels_ser.shape)\n",
        "print(test_labels.shape)"
      ],
      "metadata": {
        "colab": {
          "base_uri": "https://localhost:8080/"
        },
        "id": "3ml7Ppu1ZDAN",
        "outputId": "a64504f1-7d1c-4727-fee9-1da122714440"
      },
      "execution_count": 18,
      "outputs": [
        {
          "output_type": "stream",
          "name": "stdout",
          "text": [
            "<class 'pandas.core.series.Series'>\n",
            "-------------------------------\n",
            "(83,)\n",
            "(83,)\n"
          ]
        }
      ]
    },
    {
      "cell_type": "markdown",
      "source": [
        "Above it has been established that the two series are equivalent in format/size now."
      ],
      "metadata": {
        "id": "UghZO4KfaxY-"
      }
    },
    {
      "cell_type": "markdown",
      "source": [
        "\n",
        "\n",
        "---\n",
        "\n"
      ],
      "metadata": {
        "id": "0EVbmP7abLVs"
      }
    },
    {
      "cell_type": "code",
      "source": [
        "#Function to compute Mean Absolute Error\n",
        "\n",
        "def MAE(pred_label, test_labels):\n",
        "\n",
        "  pred_labels_ser = pd.Series(pred_label) # converting the predicted labels list to a series in order to be compatible with the test labels\n",
        "\n",
        "  diff = []\n",
        "\n",
        "  for i, j in zip(test_labels, pred_labels_ser): # zip aggregates the 2 series into tuples; the for loop iterates over each tuple\n",
        "\n",
        "      minus = abs(i - j)\n",
        "      diff.append(minus)\n",
        "\n",
        "  summed = sum(diff)\n",
        "\n",
        "  MAE = summed / (test_labels.shape[0]) # test_labels.shape[0] gives len of rows; since test and predicted labels have equal lenghts, using either works.\n",
        "\n",
        "  print(MAE)"
      ],
      "metadata": {
        "id": "on0KltYWcKQa"
      },
      "execution_count": 19,
      "outputs": []
    },
    {
      "cell_type": "code",
      "source": [
        "#Function to compute Mean Squared Error\n",
        "\n",
        "def MSE(pred_label, test_labels):\n",
        "\n",
        "  pred_labels_ser = pd.Series(pred_label)\n",
        "  \n",
        "  diff = []\n",
        "\n",
        "  for i, j in zip(test_labels, pred_labels_ser): \n",
        "\n",
        "      minus = (i - j) ** 2\n",
        "      diff.append(minus)\n",
        "\n",
        "  summed = sum(diff)\n",
        "\n",
        "  MSE = summed / (test_labels.shape[0])\n",
        "\n",
        "  print(MSE)"
      ],
      "metadata": {
        "id": "gdrD9eTucWco"
      },
      "execution_count": 20,
      "outputs": []
    },
    {
      "cell_type": "markdown",
      "source": [
        "\n",
        "\n",
        "---\n",
        "\n"
      ],
      "metadata": {
        "id": "-vZ1sPhvwgrD"
      }
    },
    {
      "cell_type": "markdown",
      "source": [
        "MAE and MSE behave differently depending on how big the error is.\n",
        "\n",
        "If the error made is big, MSE penalizes more.\n",
        "\n",
        "If the error made is small, MSE penalizes less.\n",
        "\n",
        "MAE is fair on all mistakes.  It is useful when both large and small errors are equally important.\n",
        "\n",
        "Seeing the relatively small MSE value, it can be assumed that the error produced by processing the real VS predicted label values is farily small."
      ],
      "metadata": {
        "id": "ASjwIniqnrRq"
      }
    },
    {
      "cell_type": "markdown",
      "source": [
        "# k-NN implementation (10 Marks)\n",
        "\n",
        "1. Extend the previous implementation by using the average of the **k** closest neighbours as a prediction\n",
        "2. Implement the **Euclidian** distance as well\n"
      ],
      "metadata": {
        "id": "jAejsmlnwbtq"
      }
    },
    {
      "cell_type": "code",
      "source": [
        "# Note: All comments that are common in the NN_implementation function have been deleted as to not be redundant\n",
        "\n",
        "def kNN_implementation(train_data, train_labels, test_data, k):\n",
        "\n",
        "  import math # to be able to use square root function \n",
        "\n",
        "  test_samples =[]\n",
        "  pred_label = []\n",
        "\n",
        "  for idx, i in test_data.iterrows():\n",
        "\n",
        "    eucl_dist_lst = [] \n",
        "\n",
        "    for jdx, j in train_data.iterrows():\n",
        "\n",
        "      # formula for the euclidian distance metric:\n",
        "      eucl_dist = math.sqrt(((j['house_age'] - i['house_age'])**2) + ((j['distance_MRT_station'] - i['distance_MRT_station']) ** 2) + ((j['number_convenience_stores'] - i['number_convenience_stores'])** 2) + ((j['latitude'] - i['latitude']) ** 2) + ((j['longitude'] - i['longitude'])**2))\n",
        "\n",
        "      eucl_dist_lst.append(eucl_dist) \n",
        "\n",
        "\n",
        "    KNN_min_eucl = [] # empty list to store j number of smallest distance from given i\n",
        "    index_min_j = [] # empty list to store indexes of all kNNs from given i\n",
        "\n",
        "    for elem in range(k): # to compute K closest neighbours of ith test sample \n",
        "\n",
        "      min_eucl = min(eucl_dist_lst)\n",
        "      KNN_min_eucl.append(min_eucl) # append smallest euclidan distance of ith test sample to K number of training samples\n",
        "\n",
        "      index_min = eucl_dist_lst.index(min_eucl)\n",
        "      index_min_j.append(index_min) # add indexes of K number of training samples with smallest distance to ith sample\n",
        "\n",
        "      pred_label.append(train_labels[index_min]) # add K number of labels which correspond to K training samples which closest to particular ith sample\n",
        "\n",
        "      eucl_dist_lst.remove(min_eucl) # delete the minimum value from eucl_dist_lst as to be able to proceed to next min in the following loop\n",
        "\n",
        "  \n",
        "    test_samples.append(idx) # to show all KNNs for particular test sample, the sample index had to be multiplied by the K value chosen beforehand\n",
        "\n",
        "\n",
        "  pred_label_avg = []\n",
        "\n",
        "  for i in range(0, len(pred_label), k): # loop with a step of k because every k number of elements belongs to the same test sample\n",
        "      avg = sum(pred_label[i:i+k])/k # finding average of labels of k training samples by considering the sum from KNNs and diving by number of KNNs \n",
        "      pred_label_avg.append(avg) \n",
        "\n",
        "  #removed the Eucl_Distance column as it seemed a bit redunant since it would store k number of shortest distances from given test sample\n",
        "  euclidian_df = pd.DataFrame( \n",
        "      {'Test_Sample': test_samples, \n",
        "      'Pred_Label(Price)' : pred_label_avg \n",
        "      }) \n",
        "\n",
        "  print(euclidian_df)\n",
        "\n",
        "  return pred_label_avg"
      ],
      "metadata": {
        "id": "bOFFQR4wFRaO"
      },
      "execution_count": 21,
      "outputs": []
    },
    {
      "cell_type": "markdown",
      "source": [
        "\n",
        "\n",
        "---\n",
        "\n"
      ],
      "metadata": {
        "id": "uJV_2YAMwaeK"
      }
    },
    {
      "cell_type": "markdown",
      "source": [
        "3. Test your approach for **k** values = [1, 3, 5, 7] and the two distance measures\n",
        "\n",
        "> a. Which is the best combination of **k** and distance?"
      ],
      "metadata": {
        "id": "pf5pF5V2xCAF"
      }
    },
    {
      "cell_type": "markdown",
      "source": [
        "\n",
        "\n",
        "---\n",
        "\n"
      ],
      "metadata": {
        "id": "5R_1NwwzwdnS"
      }
    },
    {
      "cell_type": "markdown",
      "source": [
        "### Self-standing function for k-NN with the choice of Euclidean or Manhattan."
      ],
      "metadata": {
        "id": "ZNuRSSs-r4H4"
      }
    },
    {
      "cell_type": "code",
      "source": [
        "def kNN_algorithm(train_data, train_labels, test_data, k, distance_metric):\n",
        "\n",
        "  import math \n",
        "\n",
        "  test_samples =[]\n",
        "  pred_label = []\n",
        "\n",
        "  for idx, i in test_data.iterrows():\n",
        "\n",
        "    dist_lst = [] \n",
        "\n",
        "    for jdx, j in train_data.iterrows():\n",
        "\n",
        "      if distance_metric == 'euclidean':\n",
        "\n",
        "        dist = math.sqrt(((j['house_age'] - i['house_age'])**2) + ((j['distance_MRT_station'] - i['distance_MRT_station']) ** 2) + ((j['number_convenience_stores'] - i['number_convenience_stores'])** 2) + ((j['latitude'] - i['latitude']) ** 2) + ((j['longitude'] - i['longitude'])**2))\n",
        "        dist_lst.append(dist)\n",
        "\n",
        "      elif distance_metric == 'manhattan':\n",
        "        dist = abs(j['house_age'] - i['house_age']) + abs(j['distance_MRT_station'] - i['distance_MRT_station']) + abs(j['number_convenience_stores'] - i['number_convenience_stores']) + abs(j['latitude'] - i['latitude']) + abs(j['longitude'] - i['longitude'])\n",
        "        dist_lst.append(dist)\n",
        "        \n",
        "      else:\n",
        "        print('invalid distance metric')\n",
        "\n",
        "\n",
        "    KNN_min_dist = [] \n",
        "    index_min_j = [] \n",
        "\n",
        "    for elem in range(k): \n",
        "\n",
        "      min_dist = min(dist_lst)\n",
        "      KNN_min_dist.append(min_dist) \n",
        "\n",
        "      index_min = dist_lst.index(min_dist)\n",
        "      index_min_j.append(index_min) \n",
        "\n",
        "      pred_label.append(train_labels[index_min]) \n",
        "\n",
        "      dist_lst.remove(min_dist) \n",
        "\n",
        "  \n",
        "    test_samples.append(idx) \n",
        "\n",
        "\n",
        "  pred_label_avg = []\n",
        "\n",
        "  for i in range(0, len(pred_label), k): \n",
        "      avg = sum(pred_label[i:i+k])/k  \n",
        "      pred_label_avg.append(avg) \n",
        "\n",
        "  \n",
        "  kNN_df = pd.DataFrame( \n",
        "      {'Test_Sample': test_samples, \n",
        "      'Pred_Label(Price)' : pred_label_avg \n",
        "      }) \n",
        "\n",
        "  print(kNN_df)\n",
        "\n",
        "  return pred_label_avg"
      ],
      "metadata": {
        "id": "sRaUwqvJr3uq"
      },
      "execution_count": 22,
      "outputs": []
    },
    {
      "cell_type": "markdown",
      "source": [
        "\n",
        "\n",
        "---\n",
        "\n"
      ],
      "metadata": {
        "id": "K2JGZoxywXzG"
      }
    },
    {
      "cell_type": "markdown",
      "source": [
        "# Computation of k = 1,3,5,7 with the Manhattan distance matric"
      ],
      "metadata": {
        "id": "iVmNyjSoPLUZ"
      }
    },
    {
      "cell_type": "code",
      "source": [
        "MAE(kNN_algorithm(train_data, train_labels, test_data, k = 1, distance_metric = 'manhattan'), test_labels) \n",
        "\n",
        "print('-------------------------------------------------------------------------')\n",
        "\n",
        "MSE(kNN_algorithm(train_data, train_labels, test_data, k = 1, distance_metric = 'manhattan'), test_labels)"
      ],
      "metadata": {
        "colab": {
          "base_uri": "https://localhost:8080/"
        },
        "id": "yNGw3oLOPEmN",
        "outputId": "64ec1d62-8de6-4fb7-dc26-8849a1b2532f"
      },
      "execution_count": 23,
      "outputs": [
        {
          "output_type": "stream",
          "name": "stdout",
          "text": [
            "    Test_Sample  Pred_Label(Price)\n",
            "0           331           0.071884\n",
            "1           332           0.390355\n",
            "2           333           0.450409\n",
            "3           334           0.241128\n",
            "4           335           0.317561\n",
            "..          ...                ...\n",
            "78          409           0.112830\n",
            "79          410           0.410373\n",
            "80          411           0.432211\n",
            "81          412           0.450409\n",
            "82          413           0.467698\n",
            "\n",
            "[83 rows x 2 columns]\n",
            "0.18352368902595287\n",
            "-------------------------------------------------------------------------\n",
            "    Test_Sample  Pred_Label(Price)\n",
            "0           331           0.071884\n",
            "1           332           0.390355\n",
            "2           333           0.450409\n",
            "3           334           0.241128\n",
            "4           335           0.317561\n",
            "..          ...                ...\n",
            "78          409           0.112830\n",
            "79          410           0.410373\n",
            "80          411           0.432211\n",
            "81          412           0.450409\n",
            "82          413           0.467698\n",
            "\n",
            "[83 rows x 2 columns]\n",
            "0.04932542333779652\n"
          ]
        }
      ]
    },
    {
      "cell_type": "code",
      "source": [
        "MAE(kNN_algorithm(train_data, train_labels, test_data, k = 3, distance_metric = 'manhattan'), test_labels)\n",
        "\n",
        "print('-------------------------------------------------------------------------')\n",
        "\n",
        "MSE(kNN_algorithm(train_data, train_labels, test_data, k = 3, distance_metric = 'manhattan'), test_labels)"
      ],
      "metadata": {
        "colab": {
          "base_uri": "https://localhost:8080/"
        },
        "id": "J3FnXyZYPQEV",
        "outputId": "581fe820-66ce-4e1f-9972-95832b8f9d70"
      },
      "execution_count": 24,
      "outputs": [
        {
          "output_type": "stream",
          "name": "stdout",
          "text": [
            "    Test_Sample  Pred_Label(Price)\n",
            "0           331           0.116166\n",
            "1           332           0.340006\n",
            "2           333           0.294207\n",
            "3           334           0.301486\n",
            "4           335           0.312405\n",
            "..          ...                ...\n",
            "78          409           0.102517\n",
            "79          410           0.434334\n",
            "80          411           0.353352\n",
            "81          412           0.297847\n",
            "82          413           0.445253\n",
            "\n",
            "[83 rows x 2 columns]\n",
            "0.20541213405920639\n",
            "-------------------------------------------------------------------------\n",
            "    Test_Sample  Pred_Label(Price)\n",
            "0           331           0.116166\n",
            "1           332           0.340006\n",
            "2           333           0.294207\n",
            "3           334           0.301486\n",
            "4           335           0.312405\n",
            "..          ...                ...\n",
            "78          409           0.102517\n",
            "79          410           0.434334\n",
            "80          411           0.353352\n",
            "81          412           0.297847\n",
            "82          413           0.445253\n",
            "\n",
            "[83 rows x 2 columns]\n",
            "0.0658873764816906\n"
          ]
        }
      ]
    },
    {
      "cell_type": "code",
      "source": [
        "MAE(kNN_algorithm(train_data, train_labels, test_data, k = 5, distance_metric = 'manhattan'), test_labels)\n",
        "\n",
        "print('-------------------------------------------------------------------------')\n",
        "\n",
        "MSE(kNN_algorithm(train_data, train_labels, test_data, k = 5, distance_metric = 'manhattan'), test_labels)"
      ],
      "metadata": {
        "colab": {
          "base_uri": "https://localhost:8080/"
        },
        "id": "BSu-e8iNPP2y",
        "outputId": "5f0c07eb-6090-407b-f075-d2c4b10547d0"
      },
      "execution_count": 25,
      "outputs": [
        {
          "output_type": "stream",
          "name": "stdout",
          "text": [
            "    Test_Sample  Pred_Label(Price)\n",
            "0           331           0.238763\n",
            "1           332           0.317743\n",
            "2           333           0.245678\n",
            "3           334           0.301729\n",
            "4           335           0.278981\n",
            "..          ...                ...\n",
            "78          409           0.141037\n",
            "79          410           0.432939\n",
            "80          411           0.303549\n",
            "81          412           0.315378\n",
            "82          413           0.408189\n",
            "\n",
            "[83 rows x 2 columns]\n",
            "0.212154710627583\n",
            "-------------------------------------------------------------------------\n",
            "    Test_Sample  Pred_Label(Price)\n",
            "0           331           0.238763\n",
            "1           332           0.317743\n",
            "2           333           0.245678\n",
            "3           334           0.301729\n",
            "4           335           0.278981\n",
            "..          ...                ...\n",
            "78          409           0.141037\n",
            "79          410           0.432939\n",
            "80          411           0.303549\n",
            "81          412           0.315378\n",
            "82          413           0.408189\n",
            "\n",
            "[83 rows x 2 columns]\n",
            "0.07016310980789908\n"
          ]
        }
      ]
    },
    {
      "cell_type": "code",
      "source": [
        "MAE(kNN_algorithm(train_data, train_labels, test_data, k = 7, distance_metric = 'manhattan'), test_labels)\n",
        "\n",
        "print('-------------------------------------------------------------------------')\n",
        "\n",
        "MSE(kNN_algorithm(train_data, train_labels, test_data, k = 7, distance_metric = 'manhattan'), test_labels)"
      ],
      "metadata": {
        "colab": {
          "base_uri": "https://localhost:8080/"
        },
        "id": "AT67oQbXPO9v",
        "outputId": "8026a8db-de9e-484c-883d-7525330d84b6"
      },
      "execution_count": 26,
      "outputs": [
        {
          "output_type": "stream",
          "name": "stdout",
          "text": [
            "    Test_Sample  Pred_Label(Price)\n",
            "0           331           0.254517\n",
            "1           332           0.300143\n",
            "2           333           0.270246\n",
            "3           334           0.268686\n",
            "4           335           0.280645\n",
            "..          ...                ...\n",
            "78          409           0.118289\n",
            "79          410           0.389055\n",
            "80          411           0.300923\n",
            "81          412           0.276485\n",
            "82          413           0.358638\n",
            "\n",
            "[83 rows x 2 columns]\n",
            "0.21376624430441157\n",
            "-------------------------------------------------------------------------\n",
            "    Test_Sample  Pred_Label(Price)\n",
            "0           331           0.254517\n",
            "1           332           0.300143\n",
            "2           333           0.270246\n",
            "3           334           0.268686\n",
            "4           335           0.280645\n",
            "..          ...                ...\n",
            "78          409           0.118289\n",
            "79          410           0.389055\n",
            "80          411           0.300923\n",
            "81          412           0.276485\n",
            "82          413           0.358638\n",
            "\n",
            "[83 rows x 2 columns]\n",
            "0.07341020140868112\n"
          ]
        }
      ]
    },
    {
      "cell_type": "markdown",
      "source": [
        "\n",
        "\n",
        "---\n",
        "\n"
      ],
      "metadata": {
        "id": "ikDoH2ZTQDFH"
      }
    },
    {
      "cell_type": "markdown",
      "source": [
        "# Testing k = 1,3,5,7 with Euclidean distance metric:"
      ],
      "metadata": {
        "id": "bHiGyvXSgbtX"
      }
    },
    {
      "cell_type": "code",
      "source": [
        "MAE(kNN_algorithm(train_data, train_labels, test_data, k = 1, distance_metric = 'euclidean'), test_labels)\n",
        "\n",
        "print('-------------------------------------------------------------------------')\n",
        "\n",
        "MSE(kNN_algorithm(train_data, train_labels, test_data, k = 1, distance_metric = 'euclidean'), test_labels)"
      ],
      "metadata": {
        "colab": {
          "base_uri": "https://localhost:8080/"
        },
        "id": "8WX5tjVFSXQk",
        "outputId": "40fa15ef-f866-41da-c171-04f14dc9daf5"
      },
      "execution_count": 27,
      "outputs": [
        {
          "output_type": "stream",
          "name": "stdout",
          "text": [
            "    Test_Sample  Pred_Label(Price)\n",
            "0           331           0.071884\n",
            "1           332           0.390355\n",
            "2           333           0.450409\n",
            "3           334           0.241128\n",
            "4           335           0.317561\n",
            "..          ...                ...\n",
            "78          409           0.112830\n",
            "79          410           0.337580\n",
            "80          411           0.290264\n",
            "81          412           0.450409\n",
            "82          413           0.337580\n",
            "\n",
            "[83 rows x 2 columns]\n",
            "0.19967697954038216\n",
            "-------------------------------------------------------------------------\n",
            "    Test_Sample  Pred_Label(Price)\n",
            "0           331           0.071884\n",
            "1           332           0.390355\n",
            "2           333           0.450409\n",
            "3           334           0.241128\n",
            "4           335           0.317561\n",
            "..          ...                ...\n",
            "78          409           0.112830\n",
            "79          410           0.337580\n",
            "80          411           0.290264\n",
            "81          412           0.450409\n",
            "82          413           0.337580\n",
            "\n",
            "[83 rows x 2 columns]\n",
            "0.05917145865540798\n"
          ]
        }
      ]
    },
    {
      "cell_type": "code",
      "source": [
        "MAE(kNN_algorithm(train_data, train_labels, test_data, k = 3, distance_metric = 'euclidean'), test_labels)\n",
        "\n",
        "print('-------------------------------------------------------------------------')\n",
        "\n",
        "MSE(kNN_algorithm(train_data, train_labels, test_data, k = 3, distance_metric = 'euclidean'), test_labels)"
      ],
      "metadata": {
        "colab": {
          "base_uri": "https://localhost:8080/"
        },
        "id": "y9GhVHXfSbF3",
        "outputId": "e89fd42a-7237-441e-e4b0-59a3e7e1bd5c"
      },
      "execution_count": 28,
      "outputs": [
        {
          "output_type": "stream",
          "name": "stdout",
          "text": [
            "    Test_Sample  Pred_Label(Price)\n",
            "0           331           0.116166\n",
            "1           332           0.239005\n",
            "2           333           0.293904\n",
            "3           334           0.352138\n",
            "4           335           0.312405\n",
            "..          ...                ...\n",
            "78          409           0.102517\n",
            "79          410           0.245981\n",
            "80          411           0.359418\n",
            "81          412           0.299363\n",
            "82          413           0.383076\n",
            "\n",
            "[83 rows x 2 columns]\n",
            "0.21580165415634686\n",
            "-------------------------------------------------------------------------\n",
            "    Test_Sample  Pred_Label(Price)\n",
            "0           331           0.116166\n",
            "1           332           0.239005\n",
            "2           333           0.293904\n",
            "3           334           0.352138\n",
            "4           335           0.312405\n",
            "..          ...                ...\n",
            "78          409           0.102517\n",
            "79          410           0.245981\n",
            "80          411           0.359418\n",
            "81          412           0.299363\n",
            "82          413           0.383076\n",
            "\n",
            "[83 rows x 2 columns]\n",
            "0.07249191013580412\n"
          ]
        }
      ]
    },
    {
      "cell_type": "code",
      "source": [
        "MAE(kNN_algorithm(train_data, train_labels, test_data, k = 5, distance_metric = 'euclidean'), test_labels)\n",
        "\n",
        "print('-------------------------------------------------------------------------')\n",
        "\n",
        "MSE(kNN_algorithm(train_data, train_labels, test_data, k = 5, distance_metric = 'euclidean'), test_labels)"
      ],
      "metadata": {
        "colab": {
          "base_uri": "https://localhost:8080/"
        },
        "id": "h6hXj2Pi6nmd",
        "outputId": "2abd5058-19d7-4d38-ddbb-b8bcace45697"
      },
      "execution_count": 29,
      "outputs": [
        {
          "output_type": "stream",
          "name": "stdout",
          "text": [
            "    Test_Sample  Pred_Label(Price)\n",
            "0           331           0.238763\n",
            "1           332           0.217834\n",
            "2           333           0.295905\n",
            "3           334           0.296451\n",
            "4           335           0.278981\n",
            "..          ...                ...\n",
            "78          409           0.141037\n",
            "79          410           0.219290\n",
            "80          411           0.350864\n",
            "81          412           0.252047\n",
            "82          413           0.322657\n",
            "\n",
            "[83 rows x 2 columns]\n",
            "0.2131945153048675\n",
            "-------------------------------------------------------------------------\n",
            "    Test_Sample  Pred_Label(Price)\n",
            "0           331           0.238763\n",
            "1           332           0.217834\n",
            "2           333           0.295905\n",
            "3           334           0.296451\n",
            "4           335           0.278981\n",
            "..          ...                ...\n",
            "78          409           0.141037\n",
            "79          410           0.219290\n",
            "80          411           0.350864\n",
            "81          412           0.252047\n",
            "82          413           0.322657\n",
            "\n",
            "[83 rows x 2 columns]\n",
            "0.07108003433966271\n"
          ]
        }
      ]
    },
    {
      "cell_type": "code",
      "source": [
        "MAE(kNN_algorithm(train_data, train_labels, test_data, k = 7, distance_metric = 'euclidean'), test_labels)\n",
        "\n",
        "print('-------------------------------------------------------------------------')\n",
        "\n",
        "MSE(kNN_algorithm(train_data, train_labels, test_data, k = 7, distance_metric = 'euclidean'), test_labels)"
      ],
      "metadata": {
        "colab": {
          "base_uri": "https://localhost:8080/"
        },
        "id": "rrG_iGH66oBR",
        "outputId": "c1f316ad-a294-4548-d4d2-0222d39f5f6e"
      },
      "execution_count": 30,
      "outputs": [
        {
          "output_type": "stream",
          "name": "stdout",
          "text": [
            "    Test_Sample  Pred_Label(Price)\n",
            "0           331           0.254517\n",
            "1           332           0.245028\n",
            "2           333           0.266736\n",
            "3           334           0.319641\n",
            "4           335           0.271806\n",
            "..          ...                ...\n",
            "78          409           0.147667\n",
            "79          410           0.279735\n",
            "80          411           0.315222\n",
            "81          412           0.240088\n",
            "82          413           0.331210\n",
            "\n",
            "[83 rows x 2 columns]\n",
            "0.21530519281377122\n",
            "-------------------------------------------------------------------------\n",
            "    Test_Sample  Pred_Label(Price)\n",
            "0           331           0.254517\n",
            "1           332           0.245028\n",
            "2           333           0.266736\n",
            "3           334           0.319641\n",
            "4           335           0.271806\n",
            "..          ...                ...\n",
            "78          409           0.147667\n",
            "79          410           0.279735\n",
            "80          411           0.315222\n",
            "81          412           0.240088\n",
            "82          413           0.331210\n",
            "\n",
            "[83 rows x 2 columns]\n",
            "0.07338801738798188\n"
          ]
        }
      ]
    },
    {
      "cell_type": "markdown",
      "source": [
        "\n",
        "\n",
        "---\n",
        "\n"
      ],
      "metadata": {
        "id": "B86JQjBse-_z"
      }
    },
    {
      "cell_type": "markdown",
      "source": [
        "Considering that lower values of MAE & MSE indicate the best performance, it would seem that k = 1 with the Manhattan distance metric is the best combination. "
      ],
      "metadata": {
        "id": "pooyw5tIe-iF"
      }
    },
    {
      "cell_type": "markdown",
      "source": [
        "# THAT'S ALL FOLKS\n",
        "\n"
      ],
      "metadata": {
        "id": "9ojS_Ffngx0s"
      }
    },
    {
      "cell_type": "markdown",
      "source": [
        "**Reminder: You can not use any library, with the exception of pandas and NumPy. So scikit-learn is forbidden!**"
      ],
      "metadata": {
        "id": "FFj4rxoQxJE8"
      }
    },
    {
      "cell_type": "markdown",
      "source": [
        "## Marking Scheme\n",
        "**Program Correctness:** Your program should work correctly on all inputs (including new datasets). Also, if there are any specifications about how the program should be written, or how the output should appear, those specifications should be followed.\n",
        "\n",
        "**Readability:** Variables functions should have meaningful names. The code should be organised into functions/methods where appropriate. There should be an appropriate amount of white space so that the code is readable, and the indentation should be consistent.\n",
        "\n",
        "**Documentation:** your code and functions/methods should be appropriately commented. However, not every line should be commented because that makes your code overly busy. Think carefully about where comments are added.\n",
        "\n",
        "\n",
        "**Code Elegance:** There are many ways to write the same functionality into your code, and some of them are needlessly slow or complicated. For example, if you are repeating the same code, it should be inside creating a new method/function or for loop\n",
        "\n",
        "**Code efficiency:** The implementation is logically well-designed without inappropriate\n",
        "design choices (e.g., unnecessary loops)."
      ],
      "metadata": {
        "id": "ux-5q5AOyGfo"
      }
    }
  ]
}